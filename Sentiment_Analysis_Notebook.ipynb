{
 "cells": [
  {
   "cell_type": "code",
   "execution_count": 45,
   "metadata": {},
   "outputs": [],
   "source": [
    "import numpy as np\n",
    "import pandas as pd\n",
    "from sklearn.model_selection import train_test_split\n",
    "from sklearn.metrics import accuracy_score, f1_score\n",
    "import torch\n",
    "import torch.nn as nn\n",
    "import nltk\n",
    "from nltk.tokenize import word_tokenize\n",
    "import matplotlib.pyplot as plt\n",
    "import seaborn as sns"
   ]
  },
  {
   "cell_type": "code",
   "execution_count": 46,
   "metadata": {},
   "outputs": [
    {
     "data": {
      "text/plain": [
       "True"
      ]
     },
     "execution_count": 46,
     "metadata": {},
     "output_type": "execute_result"
    }
   ],
   "source": [
    "nltk.download('stopwords', quiet=True)\n",
    "nltk.download('punkt', quiet=True)\n",
    "nltk.download('wordnet', quiet=True)"
   ]
  },
  {
   "cell_type": "code",
   "execution_count": 47,
   "metadata": {},
   "outputs": [],
   "source": [
    "train = pd.read_csv(r\"C:\\Users\\mikol\\OneDrive\\Pulpit\\Data\\IMDB reviews\\Train.csv\")\n",
    "test = pd.read_csv(r\"C:\\Users\\mikol\\OneDrive\\Pulpit\\Data\\IMDB reviews\\Test.csv\")\n",
    "valid = pd.read_csv(r\"C:\\Users\\mikol\\OneDrive\\Pulpit\\Data\\IMDB reviews\\Valid.csv\")"
   ]
  },
  {
   "cell_type": "code",
   "execution_count": 48,
   "metadata": {},
   "outputs": [],
   "source": [
    "def print_wrapped_text(text, words_per_line):\n",
    "    words = text.split()\n",
    "    for i in range(0, len(words), words_per_line):\n",
    "        print(\" \".join(words[i:i + words_per_line]))"
   ]
  },
  {
   "cell_type": "code",
   "execution_count": 49,
   "metadata": {},
   "outputs": [
    {
     "name": "stdout",
     "output_type": "stream",
     "text": [
      "When I put this movie in my DVD player, and sat down with a coke and some chips, I had some expectations. I was hoping\n",
      "that this movie would contain some of the strong-points of the first movie: Awsome animation, good flowing story, excellent voice cast, funny comedy and a\n",
      "kick-ass soundtrack. But, to my disappointment, not any of this is to be found in Atlantis: Milo's Return. Had I read some reviews first, I\n",
      "might not have been so let down. The following paragraph will be directed to those who have seen the first movie, and who enjoyed it\n",
      "primarily for the points mentioned.<br /><br />When the first scene appears, your in for a shock if you just picked Atlantis: Milo's Return from the\n",
      "display-case at your local videoshop (or whatever), and had the expectations I had. The music feels as a bad imitation of the first movie, and\n",
      "the voice cast has been replaced by a not so fitting one. (With the exception of a few characters, like the voice of Sweet). The\n",
      "actual drawings isnt that bad, but the animation in particular is a sad sight. The storyline is also pretty weak, as its more like three\n",
      "episodes of Schooby-Doo than the single adventurous story we got the last time. But dont misunderstand, it's not very good Schooby-Doo episodes. I didnt laugh\n",
      "a single time, although I might have sniggered once or twice.<br /><br />To the audience who haven't seen the first movie, or don't especially care\n",
      "for a similar sequel, here is a fast review of this movie as a stand-alone product: If you liked schooby-doo, you might like this movie.\n",
      "If you didn't, you could still enjoy this movie if you have nothing else to do. And I suspect it might be a good kids\n",
      "movie, but I wouldn't know. It might have been better if Milo's Return had been a three-episode series on a cartoon channel, or on breakfast\n",
      "TV. Sentiment: 0\n"
     ]
    }
   ],
   "source": [
    "# Examine data\n",
    "row = 1\n",
    "text = f\"{train['text'][row]}\\nSentiment: {train['label'][row]}\"\n",
    "print_wrapped_text(text, 25)"
   ]
  },
  {
   "cell_type": "code",
   "execution_count": null,
   "metadata": {},
   "outputs": [
    {
     "name": "stdout",
     "output_type": "stream",
     "text": [
      "(40000, 2)\n",
      "(5000, 2)\n",
      "(5000, 2)\n",
      "\n",
      "unique labels : [0 1] [0 1] [0 1]\n",
      "\n",
      "null count : \n",
      " text     0\n",
      "label    0\n",
      "dtype: int64 text     0\n",
      "label    0\n",
      "dtype: int64 text     0\n",
      "label    0\n",
      "dtype: int64\n"
     ]
    }
   ],
   "source": [
    "print(train.shape)\n",
    "print(test.shape)s\n",
    "print(valid.shape)\n",
    "\n",
    "column = \"label\"\n",
    "print(\"\\nunique labels :\", train[column].unique(), valid[column].unique(), test[column].unique())\n",
    "\n",
    "print(\"\\nnull count : \\n\", train.isnull().sum(), valid.isnull().sum(), test.isnull().sum())"
   ]
  }
 ],
 "metadata": {
  "kernelspec": {
   "display_name": "NLP_Sentiment_IMDB",
   "language": "python",
   "name": "python3"
  },
  "language_info": {
   "codemirror_mode": {
    "name": "ipython",
    "version": 3
   },
   "file_extension": ".py",
   "mimetype": "text/x-python",
   "name": "python",
   "nbconvert_exporter": "python",
   "pygments_lexer": "ipython3",
   "version": "3.11.9"
  }
 },
 "nbformat": 4,
 "nbformat_minor": 2
}
