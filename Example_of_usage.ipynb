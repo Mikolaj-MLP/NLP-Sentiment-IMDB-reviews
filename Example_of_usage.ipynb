{
 "cells": [
  {
   "cell_type": "code",
   "execution_count": 1,
   "metadata": {},
   "outputs": [],
   "source": [
    "from utils.predict_sentiment import PredictSentiment\n",
    "predictor = PredictSentiment(save_dir=\"Trained_models\", vocab_path=\"Trained_models/vocab.pt\")"
   ]
  },
  {
   "cell_type": "code",
   "execution_count": 16,
   "metadata": {},
   "outputs": [],
   "source": [
    "review = '''\n",
    "\n",
    "I really liked this movie. Just kidding I lied.\n",
    "\n",
    "'''"
   ]
  },
  {
   "cell_type": "code",
   "execution_count": 17,
   "metadata": {},
   "outputs": [
    {
     "name": "stdout",
     "output_type": "stream",
     "text": [
      "Unidirectional LSTM: Negative (P(1): 0.3978)\n",
      "Bidirectional LSTM: Negative (P(1): 0.3948)\n",
      "Attention-Based Model: Negative (P(1): 0.4082)\n",
      "TextCNN: Negative (P(1): 0.4480)\n",
      "\n",
      "The review has a Negative sentiment\n",
      "\n"
     ]
    }
   ],
   "source": [
    "prediction = predictor.predict(review)"
   ]
  },
  {
   "cell_type": "code",
   "execution_count": 18,
   "metadata": {},
   "outputs": [],
   "source": [
    "review = '''\n",
    "I have been longing for this sequel since 'Joker' released in 2019. Unfortunately, after reading several reviews, I watched it with very low expectations...these are my thoughts:\n",
    "\n",
    "In general, it is a good movie with some inconsistencies. First, putting Arthur on the stand. I thought that we agreed that he was not himself after all the traumas he went through...\n",
    "\n",
    "Second, the music scenes. Yes, they got on my nerves. I understood the point but they could have been shortened.\n",
    "\n",
    "Here the questions are still the same: as a society, do we really think about the outcast? Do we really see them? If so, are we doing what it takes to make them feel they are part of?\n",
    "\n",
    "I still felt Arthur' pain and in many scenes you can see that he is more coherent than most of the people that were supporting him. After all, he wanted to redeem himself.\n",
    "\n",
    "Joaquin Phoenix' s performance is stunning as always, he never dissapoints!!!!!\n",
    "\n",
    "'''"
   ]
  },
  {
   "cell_type": "code",
   "execution_count": 19,
   "metadata": {},
   "outputs": [
    {
     "name": "stdout",
     "output_type": "stream",
     "text": [
      "Unidirectional LSTM: Positive (P(1): 0.7212)\n",
      "Bidirectional LSTM: Positive (P(1): 0.5508)\n",
      "Attention-Based Model: Positive (P(1): 0.6042)\n",
      "TextCNN: Positive (P(1): 0.5153)\n",
      "\n",
      "The review has a Positive sentiment\n",
      "\n"
     ]
    }
   ],
   "source": [
    "prediction = predictor.predict(review)"
   ]
  },
  {
   "cell_type": "code",
   "execution_count": null,
   "metadata": {},
   "outputs": [],
   "source": []
  }
 ],
 "metadata": {
  "kernelspec": {
   "display_name": "NLP_Sentiment_IMDB",
   "language": "python",
   "name": "python3"
  },
  "language_info": {
   "codemirror_mode": {
    "name": "ipython",
    "version": 3
   },
   "file_extension": ".py",
   "mimetype": "text/x-python",
   "name": "python",
   "nbconvert_exporter": "python",
   "pygments_lexer": "ipython3",
   "version": "3.11.9"
  }
 },
 "nbformat": 4,
 "nbformat_minor": 2
}
