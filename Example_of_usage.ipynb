{
 "cells": [
  {
   "cell_type": "code",
   "execution_count": 2,
   "metadata": {},
   "outputs": [],
   "source": [
    "from utils.predict_sentiment import PredictSentiment\n",
    "predictor = PredictSentiment(save_dir=\"Trained_models\", vocab_path=\"Trained_models/vocab.pt\")"
   ]
  },
  {
   "cell_type": "code",
   "execution_count": 3,
   "metadata": {},
   "outputs": [],
   "source": [
    "review = '''\n",
    "\n",
    "I really liked this movie. Just kidding I lied.\n",
    "\n",
    "'''"
   ]
  },
  {
   "cell_type": "code",
   "execution_count": 4,
   "metadata": {},
   "outputs": [
    {
     "name": "stdout",
     "output_type": "stream",
     "text": [
      "Unidirectional LSTM: Negative (Confidence: 0.3978)\n",
      "Bidirectional LSTM: Negative (Confidence: 0.3948)\n",
      "Attention-Based Model: Negative (Confidence: 0.4082)\n",
      "TextCNN: Negative (Confidence: 0.4480)\n",
      "\n",
      "The review has a Negative sentiment\n",
      "\n"
     ]
    }
   ],
   "source": [
    "prediction = predictor.predict(review)"
   ]
  }
 ],
 "metadata": {
  "kernelspec": {
   "display_name": "NLP_Sentiment_IMDB",
   "language": "python",
   "name": "python3"
  },
  "language_info": {
   "codemirror_mode": {
    "name": "ipython",
    "version": 3
   },
   "file_extension": ".py",
   "mimetype": "text/x-python",
   "name": "python",
   "nbconvert_exporter": "python",
   "pygments_lexer": "ipython3",
   "version": "3.11.9"
  }
 },
 "nbformat": 4,
 "nbformat_minor": 2
}
